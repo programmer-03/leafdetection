{
 "cells": [
  {
   "cell_type": "code",
   "execution_count": null,
   "id": "8cc7814d-e841-4e8a-970f-7cce55789db4",
   "metadata": {},
   "outputs": [],
   "source": [
    "import numpy as np\n",
    "import tensorflow as tf\n",
    "from keras.preprocessing.image import ImageDataGenerator"
   ]
  },
  {
   "cell_type": "code",
   "execution_count": null,
   "id": "d83aa037-8396-4863-940f-0a916b20792a",
   "metadata": {},
   "outputs": [],
   "source": [
    "model = tf.keras.models.load_model('Detector.keras')"
   ]
  },
  {
   "cell_type": "code",
   "execution_count": null,
   "id": "2c552c36-b43b-4bc7-ad1e-ce997939766a",
   "metadata": {},
   "outputs": [],
   "source": [
    "import cv2\n",
    "import matplotlib.pyplot as plt\n",
    "image_path = \"test/Esca_(Black_Measles)/5e830cd6-1314-46bf-81e0-962026fbcc62___FAM_B.Msls 0838_final_masked.jpg\"\n",
    "\n",
    "#read image\n",
    "img = cv2.imread(image_path)\n",
    "img = cv2.cvtColor(img, cv2.COLOR_BGR2RGB)\n",
    "\n",
    "# display\n",
    "plt.imshow(img)\n",
    "plt.title(\"Testing Image\")\n",
    "plt.xticks([])\n",
    "plt.yticks([])\n",
    "plt.show()"
   ]
  },
  {
   "cell_type": "markdown",
   "id": "a13dfd66-889b-4070-8d71-d40160197192",
   "metadata": {},
   "source": [
    "testing model"
   ]
  },
  {
   "cell_type": "code",
   "execution_count": 111,
   "id": "4e6f8b27-2e61-4bd0-9575-4c60901d2a8f",
   "metadata": {},
   "outputs": [
    {
     "name": "stdout",
     "output_type": "stream",
     "text": [
      "(1, 128, 128, 3)\n"
     ]
    }
   ],
   "source": [
    "image = tf.keras.preprocessing.image.load_img(image_path, target_size = (128, 128))\n",
    "input_arr = tf.keras.preprocessing.image.img_to_array(image)\n",
    "input_arr = np.array([input_arr])\n",
    "print(input_arr.shape)"
   ]
  },
  {
   "cell_type": "code",
   "execution_count": null,
   "id": "6c5c456b-df27-4a9b-804a-0b42e8336f60",
   "metadata": {},
   "outputs": [],
   "source": [
    "prediction = model.predict(input_arr)\n",
    "prediction, prediction.shape"
   ]
  },
  {
   "cell_type": "code",
   "execution_count": null,
   "id": "d71b0b8e-a584-4d49-9262-9c43ee7c3af3",
   "metadata": {},
   "outputs": [],
   "source": [
    "result = np.argmax(prediction)\n",
    "result"
   ]
  },
  {
   "cell_type": "code",
   "execution_count": 115,
   "id": "4173aed5-0e1f-4260-90e4-3d7f7e5dafa8",
   "metadata": {},
   "outputs": [],
   "source": [
    "className = ['Black_rot',\n",
    " 'Esca_(Black_Measles)',\n",
    " 'Healthy',\n",
    " 'Leaf_blight_(Isariopsis_Leaf_Spot)']"
   ]
  },
  {
   "cell_type": "code",
   "execution_count": null,
   "id": "e2ad3c33-723a-4635-93c7-ceb1e76e88d7",
   "metadata": {},
   "outputs": [],
   "source": [
    "# Class Predicted\n",
    "model_prediction = className[result]\n",
    "model_prediction\n",
    "plt.imshow(img)\n",
    "plt.imshow(img)\n",
    "plt.title(f\"Status: {model_prediction}\")\n",
    "plt.xticks([])\n",
    "plt.yticks([])\n",
    "plt.show()"
   ]
  }
 ],
 "metadata": {
  "kernelspec": {
   "display_name": "Python 3 (ipykernel)",
   "language": "python",
   "name": "python3"
  },
  "language_info": {
   "codemirror_mode": {
    "name": "ipython",
    "version": 3
   },
   "file_extension": ".py",
   "mimetype": "text/x-python",
   "name": "python",
   "nbconvert_exporter": "python",
   "pygments_lexer": "ipython3",
   "version": "3.12.0"
  }
 },
 "nbformat": 4,
 "nbformat_minor": 5
}
